{
 "cells": [
  {
   "cell_type": "code",
   "execution_count": 44,
   "metadata": {},
   "outputs": [],
   "source": [
    "f_non_toxic = open(\"non_toxic.txt\")\n",
    "f_toxic = open(\"toxic.txt\")\n",
    "r = open(\"non_toxic_seed.txt\",\"w+\")\n",
    "raw_datas = []\n",
    "for line in f_non_toxic:\n",
    "    raw_datas.append(line)"
   ]
  },
  {
   "cell_type": "code",
   "execution_count": 45,
   "metadata": {},
   "outputs": [],
   "source": [
    "for raw_data in raw_datas:\n",
    "    en = raw_data[0:raw_data.index('(')-1]\n",
    "    scientific_name = raw_data[raw_data.index('Scientific Names')+18:raw_data.index(' | Family:')]\n",
    "    r.write(\"Flower.create(en:\\\"\"+ en +\"\\\",scientific_name:\\\"\"+ scientific_name +\"\\\",toxic:false)\\r\\n\")"
   ]
  },
  {
   "cell_type": "code",
   "execution_count": 46,
   "metadata": {},
   "outputs": [],
   "source": [
    "raw_datas = []\n",
    "for line in f_toxic:\n",
    "    raw_datas.append(line)"
   ]
  },
  {
   "cell_type": "code",
   "execution_count": 47,
   "metadata": {},
   "outputs": [],
   "source": [
    "for raw_data in raw_datas:\n",
    "    en = raw_data[0:raw_data.index('(')-1]\n",
    "    scientific_name = raw_data[raw_data.index('Scientific Names')+18:raw_data.index(' | Family:')]\n",
    "    r.write(\"Flower.create(en:\\\"\"+ en +\"\\\",scientific_name:\\\"\"+ scientific_name +\"\\\",toxic:true)\\r\\n\")"
   ]
  },
  {
   "cell_type": "code",
   "execution_count": 48,
   "metadata": {},
   "outputs": [],
   "source": [
    "r.close()\n",
    "f_non_toxic.close()\n",
    "f_toxic.close()"
   ]
  },
  {
   "cell_type": "code",
   "execution_count": null,
   "metadata": {},
   "outputs": [],
   "source": []
  }
 ],
 "metadata": {
  "kernelspec": {
   "display_name": "Python 3",
   "language": "python",
   "name": "python3"
  },
  "language_info": {
   "codemirror_mode": {
    "name": "ipython",
    "version": 3
   },
   "file_extension": ".py",
   "mimetype": "text/x-python",
   "name": "python",
   "nbconvert_exporter": "python",
   "pygments_lexer": "ipython3",
   "version": "3.6.4"
  }
 },
 "nbformat": 4,
 "nbformat_minor": 2
}
